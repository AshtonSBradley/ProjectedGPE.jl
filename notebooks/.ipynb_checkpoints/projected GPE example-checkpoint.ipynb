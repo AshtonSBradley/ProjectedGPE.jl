{
 "cells": [
  {
   "cell_type": "markdown",
   "metadata": {},
   "source": [
    "### Background  \n",
    "1. C-field theory\n",
    " * Projected fields\n",
    " * Projected Gross-Pitaevskii Equation\n",
    "2. Spectral-Galerkin method\n",
    " * $2M$ Rule for quadrature integration\n",
    " * Integrating general nonlinearities"
   ]
  },
  {
   "cell_type": "markdown",
   "metadata": {},
   "source": [
    "### C-field definition\n",
    "\\begin{equation}\n",
    "\\psi(x,t)=\\sum_n c_n(t)\\phi_n(x),\n",
    "\\end{equation}\n",
    "where the modes $\\phi_n(x)$ are a complete and orthonormal set:\n",
    "\\begin{equation}\n",
    "\\int dx\\;\\phi^*_n(x)\\phi_m(x)=\\delta_{nm},\\\\\n",
    "\\mathbb{1}=\\sum_n|\\phi_n\\rangle\\langle\\phi_n|.\n",
    "\\end{equation}\n",
    "Completeness then gives a construction for the Dirac delta:\n",
    "\\begin{equation}\n",
    "\\delta(x-x')=\\sum_n\\phi_n(x)\\phi_n^*(x').\n",
    "\\end{equation}"
   ]
  },
  {
   "cell_type": "markdown",
   "metadata": {},
   "source": [
    "### Defining the C-region\n",
    "To define the C-region, we introduce the projection operator\n",
    "\\begin{equation}\n",
    "\\hat{\\cal P}=\\bar{\\sum_n}|\\phi_n\\rangle\\langle \\phi_n|\n",
    "\\end{equation}\n",
    "\n",
    "where the bar notation refers to the cutoff defining the $C$-region. The quantum number is restricted to $n\\leq M-1$, giving a total of $M$ modes in the 1D $C$-region, indexed by quantum numbers $n\\in C=\\{ 0,1,\\dots, M-1\\}$.\n",
    "\n",
    "The Dirac delta function for the $C$-region is \n",
    "\\begin{equation}\n",
    "\\langle x|\\hat{\\cal P}|x'\\rangle=\\bar{\\sum_n}\\phi_n(x)\\phi_n^*(x')\\equiv\\delta(x,x').\n",
    "\\end{equation}"
   ]
  },
  {
   "cell_type": "markdown",
   "metadata": {},
   "source": [
    "### Projected $\\delta$-function\n",
    "The projected delta function $\\delta(x,x')$ plays a fundamental role in  c-field theory. It forms the kernel of the projector acting on functions in  position space:\n",
    "\\begin{equation}\n",
    "{\\cal P}f(x)\\equiv \\int dx'\\;\\delta(x,x')f(x')\n",
    "\\end{equation}\n",
    "For any function residing in $C$, projection is the identity. Equivalently, the action of $\\delta(x,x')$ is equivalent to the defining property of $\\delta(x-x')$:\n",
    "\\begin{equation}\n",
    "\\int dx'\\;\\delta(x,x')f(x')=f(x).\n",
    "\\end{equation}\n",
    "However, when considering $\\delta(x,x')$, the order of arguments is significant."
   ]
  },
  {
   "cell_type": "markdown",
   "metadata": {},
   "source": [
    "## Projected  Gross-Pitaevskii equation\n",
    "### Introduction to PGPE\n",
    "Given a basis as above, one start from the GPE\n",
    "\\begin{equation}\n",
    "i\\hbar\\frac{\\partial \\psi}{\\partial t}=\\left(-\\frac{\\hbar^2\\nabla^2}{2m}+V(x)+g|\\psi|^2\\right)\\psi\n",
    "\\end{equation}\n",
    "and substitute \n",
    "\\begin{equation}\n",
    "\\psi=\\bar{\\sum_n}c_n(t)\\phi_n(x),\n",
    "\\end{equation}\n",
    "and project onto $\\phi_n(x)$."
   ]
  },
  {
   "cell_type": "markdown",
   "metadata": {},
   "source": [
    "## Spectral basis\n",
    "We express the equation in the spectral basis \n",
    "\\begin{equation}\n",
    "(\\hat T+\\hat V)\\phi_n(x)=\\epsilon_n\\phi_n(x).\n",
    "\\end{equation}\n",
    "We arrive at the equation\n",
    "\\begin{equation}\n",
    "i\\hbar\\frac{\\partial c_n}{\\partial t}=\\epsilon_nc_n+g\\int dx\\;\\phi_n^*(x)|\\psi(x)|^2\\psi(x)\n",
    "\\end{equation}\n",
    "In the harmonic oscillator basis, our modes take the form \n",
    "\\begin{equation}\n",
    "\\phi_n(x)=e^{-x^2/2}P_n(x)\n",
    "\\end{equation}\n",
    "where $P_n(x)$ contains the polynomial part of degree $n$ and normalization factors. "
   ]
  },
  {
   "cell_type": "markdown",
   "metadata": {},
   "source": [
    "There are two obvious ways to express the integral.\n",
    "#### 1. Direct substitution of basis decomposition\n",
    "\\begin{equation}\n",
    "I_n\\equiv \\int dx\\;\\phi_n^*(x)|\\psi(x)|^2\\psi(x)\n",
    "\\end{equation}\n",
    "Firstly, we can substitute the wavefunction:\n",
    "\\begin{equation}\n",
    "I_n=\\bar{\\sum}_{mpq}c_m^*c_pc_q\\int dx\\;\\phi_n^*(x)\\phi_m^*(x)\\phi_p(x)\\phi_q(x),\n",
    "\\end{equation}\n",
    "a triple summation over a set of known matrix elements for each mode $n$. For each $n$ this triple summation  requires $O(M^3)$ arithmetic operations. The total cost of evaluating the PGPE right hand side via summation is $O(M^4)$. This approach is numerically expensive, and scales poorly with $M$."
   ]
  },
  {
   "cell_type": "markdown",
   "metadata": {},
   "source": [
    "####  2. Quadrature method\n",
    "This computational effort can be reduced via an alternate approach using Gaussian quadrature. \n",
    "\n",
    ">#### Philosophy:   \n",
    "We will transform onto a *particular* (in general non-uniform) spatial grid that will guarantee that the non-linear term is projected faithfully onto $\\phi_n(x)$, *for all modes in the C-field*.\n",
    "\n",
    "For the integral at hand, the highest order term can be found by considering the cutoff mode for each wavefunction $\\psi(x)$, and can be written as\n",
    "\\begin{equation}\n",
    "I_{M-1}=\\int dx\\;e^{-2x^2}R_{4(M-1)}(x),\n",
    "\\end{equation}\n",
    "where $R$ expresses the polynomial part."
   ]
  },
  {
   "cell_type": "markdown",
   "metadata": {},
   "source": [
    "### The $2M$ rule\n",
    "As we will see below, for this $C$ region consisting of $M$ modes, the nonlinear integral may be evaluated exactly by mapping the coefficients $c_n$ to a spatial grid of $2M$ points, corresponding to a Gaussian quadrature rule of order  $2M$. Thus we can state our general rule, for a cubic nonlinearity of Gross-Pitaevskii form:\n",
    "\n",
    ">#### The 2M rule:\n",
    "A field represented by $M$ modes may be evolved at working precision using a particular grid of $2M$ spatial points.\n",
    "\n",
    "The Fourier spectral method is a special case for which the wieght function becomes unity, and for which the $2M$ rule achieves spatial sampling at the *Nyquist frequency*."
   ]
  },
  {
   "cell_type": "markdown",
   "metadata": {},
   "source": [
    "### Gauss-Hermite quadrature\n",
    "For any integral of the form\n",
    "\\begin{equation}\n",
    "I=\\int_{-\\infty}^{\\infty} dx \\;e^{-x^2}Q_{2N-1}(x),\n",
    "\\end{equation}\n",
    "with $Q_{2N-1}(x)$ restricted to maximum polynomial degree $2N-1$\n",
    "\\begin{equation}\n",
    "Q_{2N-1}(x)=a_0+a_1x+\\dots+a_{2N-1}x^{2N-1},\n",
    "\\end{equation}\n",
    "there exists a quadrature rule  of order $N$, involving $N$ roots $x_k$, and $N$ weights $w_k$, $k\\in 1,\\dots, N$, that will evaluated all such integrals exactly. \n",
    "\n",
    "From a linear algebra point of view this result is not so surprising: The Gaussian-weighted integral of an arbitrary polynomial of degree $2N-1$ involves $2N$ uknown coefficients, and $2N$ known integrals. "
   ]
  },
  {
   "cell_type": "markdown",
   "metadata": {},
   "source": [
    "Given $2N$ free parameters, here given by the roots and weights of the quadrature rule, the $2N$ unknowns may be solved for exactly, by solving a system of simultaneous linear equations. \n",
    "\n",
    "The integral may be evaluated \"exactly\" as\n",
    "\\begin{equation}\n",
    "I=\\sum_k w_kQ_{2N-1}(x_k),\n",
    "\\end{equation}\n",
    "where the meaning of  \"exact\" is that it is accurate to machine precision; typically the accuracy will be of order 1e-16. "
   ]
  },
  {
   "cell_type": "markdown",
   "metadata": {},
   "source": [
    "### Projected time evolution: work step\n",
    "#### Algorithm\n",
    ">1. cast the integral in the above form $I$, \n",
    "2. Transform to the quadrature grid $c_n\\to \\psi(x_k)$\n",
    "2. Evaluate $Q_{2N-1}(x_k)$ for the resulting polynomial part, and \n",
    "3. Evaluate the sum weighted by $w_k$, giving the projection of $|\\psi|^2\\psi\\to c_n'$\n",
    "\n",
    "Step 1. is done by the change of variables $x=y/\\sqrt{2}$"
   ]
  },
  {
   "cell_type": "markdown",
   "metadata": {},
   "source": [
    "we find\n",
    "\\begin{align}\n",
    "I_{M-1}&=\\int_{-\\infty}^{\\infty} dy\\;e^{-y^2}\\left[\\frac{R_{4(M-1)}(y/\\sqrt{2})}{\\sqrt{2}}\\right],\n",
    "\\end{align}\n",
    "where the terms in parentheses correspond to $Q_{2N-1}(x)$ defined above. \n",
    "\n",
    "According to the rules of Gaussian quadrature, a rule of order $N$ will integrate all polynomials up to and including degree $2N-1$. A rule of order $2M$ will thus evaluate all terms up to order $4M-1$. This is the lowest order rule that will guarantee exactness.\n",
    "Hence\n",
    ">**All projected integrals in the PGPE for $M$ modes are exact within a Gaussian quadrature of order $2M$**."
   ]
  },
  {
   "cell_type": "markdown",
   "metadata": {},
   "source": [
    "A rule of order $n$ will integrate polynomials up to and including degree $2n-1$. Thus a rule of order $JM$ will integrate terms up to order $2JM-1$, giving numerically exact evalution of the nonlinear term for all modes in $C$. The variable transformation is \n",
    "$$ x=\\frac{y}{\\sqrt{J}}$$\n",
    "giving the integral \n",
    "$$I_{M-1}=\\int_{-\\infty}^{\\infty} dy\\;e^{-y^2} \\frac{1}{\\sqrt{J}}R_{2J(M-1)}(y/\\sqrt{J}),$$"
   ]
  },
  {
   "cell_type": "markdown",
   "metadata": {},
   "source": [
    "All powers of $\\psi(x)$, i.e. both odd and even, are accommodated by putting $2J\\to K$, to give\n",
    "$$\n",
    "I_{M-1}\\equiv \\int dx\\;\\phi_n^*(x)\\psi(x)^{K-2}\\psi(x),\n",
    "$$\n",
    "to give the form\n",
    "$$\n",
    "I_{M-1}=\\int_{-\\infty}^{\\infty} dx \\;e^{-Kx^2/2}R_{K(M-1)}(x).\n",
    "$$\n",
    "A rule of order $KM/2$ will integrate all terms up to order $KM-1>K(M-1)$. The variable transformation is \n",
    "$$x=\\sqrt{\\frac{2}{K}}y,$$ \n",
    "giving the integral\n",
    "$$I_{M-1}=\\int_{-\\infty}^{\\infty} dy\\;e^{-y^2} \\sqrt{\\frac{2}{K}}R_{K(M-1)}\\left(\\sqrt{\\frac{2}{K}}y\\right) ,$$"
   ]
  },
  {
   "cell_type": "markdown",
   "metadata": {},
   "source": [
    "### General Anisotropic form\n",
    "The most general formulation we require must accommodate different oscillator fequencies in different spatial directions:\n",
    "$$\n",
    "I_{M-1}\\equiv \\int dx\\;\\phi_n^*(x)\\psi(x)^{K-2}\\psi(x),\n",
    "$$\n",
    "to give the form\n",
    "$$\n",
    "I_{M-1}=\\int_{-\\infty}^{\\infty} dx \\;e^{-K\\omega x^2/2}R_{K(M-1)}(x).\n",
    "$$\n",
    "A rule of order $KM/2$ will integrate all terms with polynomial degree up to $KM-1>K(M-1)$. The variable transformation is \n",
    "$$x=\\sqrt{\\frac{2}{K\\omega}}y,$$ \n",
    "giving the integral\n",
    "$$I_{M-1}=\\int_{-\\infty}^{\\infty} dy\\;e^{-y^2} \\sqrt{\\frac{2}{K\\omega}}R_{K(M-1)}\\left(\\sqrt{\\frac{2}{K\\omega}}y\\right).$$\n",
    "\n",
    "In the package `ProjectedGPE.jl`, the function that sets up the roots `x`, weights `w`, and transformation matrix `T` to evaluate integrals of this form is \n",
    "`nfieldtrans.jl`"
   ]
  },
  {
   "cell_type": "markdown",
   "metadata": {},
   "source": [
    "You should be able to run this example to compute wavefunction norm:"
   ]
  },
  {
   "cell_type": "code",
   "execution_count": null,
   "metadata": {},
   "outputs": [],
   "source": [
    "using ProjectedGPE"
   ]
  },
  {
   "cell_type": "code",
   "execution_count": null,
   "metadata": {},
   "outputs": [],
   "source": [
    "M = 50\n",
    "x,w,T = nfieldtrans(\"hermite\",M,2) #2 field product in the integral to be evaluated\n",
    "c = randn(M) + im*randn(M);\n",
    "ψ = T*c\n",
    "N = sum(w.*abs(ψ).^2)"
   ]
  },
  {
   "cell_type": "markdown",
   "metadata": {},
   "source": [
    "and compare with the direct result of summing:"
   ]
  },
  {
   "cell_type": "code",
   "execution_count": null,
   "metadata": {},
   "outputs": [],
   "source": [
    "Nsum = sum(abs(c).^2)"
   ]
  },
  {
   "cell_type": "markdown",
   "metadata": {
    "collapsed": true
   },
   "source": [
    "something seems off: why only accurate to 6dp when using 2-field grid?\n",
    " * must be an issue with `eigmat.jl`\n",
    " * revealed by using a smaller `M=20` (all ok) versus `M=30` (loss of accuracy)"
   ]
  }
 ],
 "metadata": {
  "anaconda-cloud": {},
  "kernelspec": {
   "display_name": "Julia 0.5.2",
   "language": "julia",
   "name": "julia-0.5"
  },
  "language_info": {
   "file_extension": ".jl",
   "mimetype": "application/julia",
   "name": "julia",
   "version": "0.5.2"
  }
 },
 "nbformat": 4,
 "nbformat_minor": 2
}
